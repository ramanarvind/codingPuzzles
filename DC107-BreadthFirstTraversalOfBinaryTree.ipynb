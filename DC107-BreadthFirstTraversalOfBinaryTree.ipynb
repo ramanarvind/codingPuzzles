{
 "cells": [
  {
   "cell_type": "markdown",
   "metadata": {},
   "source": [
    "Print the nodes in a binary tree level-wise. For example, the following should print 1, 2, 3, 4, 5.\n",
    "\n",
    "  1\n",
    " / \\\n",
    "2   3\n",
    "   / \\\n",
    "  4   5"
   ]
  },
  {
   "cell_type": "code",
   "execution_count": 1,
   "metadata": {
    "collapsed": false
   },
   "outputs": [],
   "source": [
    "# First lets define a Tree class with private member variables \n",
    "# https://stackoverflow.com/questions/1641219/does-python-have-private-variables-in-classes \n",
    "class Node:\n",
    "    def __init__(self, nodeID):\n",
    "        self.left = None\n",
    "        self.right = None\n",
    "        self.__nodeID = nodeID # Is a private variable\n",
    "    \n",
    "    def getLeftChild(self):\n",
    "        return(self.left)\n",
    "    \n",
    "    def getRightChild(self):\n",
    "        return(self.right)\n",
    "    \n",
    "    def getNodeID(self):\n",
    "        return(self.__nodeID)\n",
    "    def setNodeID(self):\n",
    "        self.__nodeID = nodeID"
   ]
  },
  {
   "cell_type": "code",
   "execution_count": 2,
   "metadata": {
    "collapsed": false
   },
   "outputs": [],
   "source": [
    "def breadthFirstTraversal(node):\n",
    "    if node.getLeftChild() is not None:\n",
    "        print(node.left.getNodeID())\n",
    "    if node.getRightChild() is not None:\n",
    "        print(node.right.getNodeID())\n",
    "    \n",
    "    # Recursively call the function for the left node\n",
    "    if node.getLeftChild() is not None:\n",
    "        breadthFirstTraversal(node.left)\n",
    "    \n",
    "    # Recursively call the function for the right node\n",
    "    if node.getRightChild() is not None:\n",
    "        breadthFirstTraversal(node.right)"
   ]
  },
  {
   "cell_type": "code",
   "execution_count": 3,
   "metadata": {
    "collapsed": false
   },
   "outputs": [],
   "source": [
    "# Create the tree as shown in the example\n",
    "root = Node(1)\n",
    "root.left = Node(2)\n",
    "root.right  = Node(3)\n",
    "root.right.left = Node(4)\n",
    "root.right.right = Node (5)"
   ]
  },
  {
   "cell_type": "code",
   "execution_count": 4,
   "metadata": {
    "collapsed": false
   },
   "outputs": [
    {
     "name": "stdout",
     "output_type": "stream",
     "text": [
      "1\n",
      "2\n",
      "3\n",
      "4\n",
      "5\n"
     ]
    }
   ],
   "source": [
    "if root is not None:\n",
    "    # Print the root node outside\n",
    "    print(root.getNodeID())\n",
    "    # Now call the recursive function to print all nodes of the tree in a breadth first order\n",
    "    breadthFirstTraversal(root)"
   ]
  },
  {
   "cell_type": "code",
   "execution_count": null,
   "metadata": {
    "collapsed": true
   },
   "outputs": [],
   "source": []
  }
 ],
 "metadata": {
  "kernelspec": {
   "display_name": "Python 3",
   "language": "python",
   "name": "python3"
  },
  "language_info": {
   "codemirror_mode": {
    "name": "ipython",
    "version": 3
   },
   "file_extension": ".py",
   "mimetype": "text/x-python",
   "name": "python",
   "nbconvert_exporter": "python",
   "pygments_lexer": "ipython3",
   "version": "3.4.3"
  }
 },
 "nbformat": 4,
 "nbformat_minor": 0
}
